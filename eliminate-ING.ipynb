{
 "metadata": {
  "name": "",
  "signature": "sha256:dbd91e3b50f330462e111784b2a17c66f9e1f9a7fac9c563a30b6549967d2977"
 },
 "nbformat": 3,
 "nbformat_minor": 0,
 "worksheets": [
  {
   "cells": [
    {
     "cell_type": "code",
     "collapsed": false,
     "input": [
      "import sys, os\n",
      "import numpy as np\n",
      "import scipy as sp\n",
      "import scipy.optimize as optimize\n",
      "import diskLogFast\n",
      "\n",
      "query = { 'cins':'ING', 'kosId': {'$lt':90000} }\n",
      "odul = [1.75, 1.25, 1.01, 0.0]\n",
      "extramultweights = { 'lgbmS' : 1.0,\n",
      "                     'lrfSTbl' : 1.0,\n",
      "                     'lgbmHiz' : 1.0,\n",
      "                     'lgbmHizTbl' : 1.0,\n",
      "                     'lHC': 1.0,\n",
      "                     'ladaS': 1.0,\n",
      "                     'lrfS': 1.0,\n",
      "                     'lgbmS3Tbl': 1.0,\n",
      "                     'l': 1.0,\n",
      "                     'lDerece': 1.0,\n",
      "                     'ladaSTbl': 1.0,\n",
      "                     'lpoisg': 1.0,\n",
      "                     'lDereceTbl': 1.0,\n",
      "                     'lg': 1.0,\n",
      "                     'lTbl': 1.0,\n",
      "                     'lpoisgTbl': 1.0,\n",
      "                     'lgTbl': 1.0 }\n",
      "\n",
      "def f(ev):\n",
      "   e = extramultweights\n",
      "   for n,i in enumerate(e.keys()): e[i]=ev[n]\n",
      "   r = diskLogFast.doExperiment(query, \n",
      "                                extramultweights=e, \n",
      "                                odul= [1.75, 1.25, 1.01, 0.0],\n",
      "                                kosCins='ING')\n",
      "   print \"INPUT\", e.values()\n",
      "   print \"W1 W2 w3 W4: \", r\n",
      "   return -sum(r)\n"
     ],
     "language": "python",
     "metadata": {},
     "outputs": [],
     "prompt_number": 10
    },
    {
     "cell_type": "code",
     "collapsed": false,
     "input": [
      "reload(diskLogFast)\n",
      "for i,v in extramultweights.items():\n",
      "    c=dict(extramultweights)\n",
      "    for j in c: c[j]=0.0\n",
      "    c[i]=1.0        \n",
      "    r=diskLogFast.doExperiment('remove', extramultweights=c, odul=[1.75,1.25,1.01,0], kosCins='ING')\n",
      "    print 'Only With', i, 'W1-4:', r[1]\n"
     ],
     "language": "python",
     "metadata": {},
     "outputs": [
      {
       "output_type": "stream",
       "stream": "stdout",
       "text": [
        "initTahminSiralama for the first time\n",
        "Only With"
       ]
      },
      {
       "output_type": "stream",
       "stream": "stdout",
       "text": [
        " lrfSTbl W1-4: 33.3161423414\n",
        "Only With"
       ]
      },
      {
       "output_type": "stream",
       "stream": "stdout",
       "text": [
        " lg W1-4: 35.8947911294\n",
        "Only With"
       ]
      },
      {
       "output_type": "stream",
       "stream": "stdout",
       "text": [
        " lDereceTbl W1-4: 34.3476018566\n",
        "Only With"
       ]
      },
      {
       "output_type": "stream",
       "stream": "stdout",
       "text": [
        " lHC W1-4: 34.6570397112\n",
        "Only With"
       ]
      },
      {
       "output_type": "stream",
       "stream": "stdout",
       "text": [
        " lgbmS3Tbl W1-4: 35.121196493\n",
        "Only With"
       ]
      },
      {
       "output_type": "stream",
       "stream": "stdout",
       "text": [
        " lgbmHizTbl W1-4: 36.3073749355\n",
        "Only With"
       ]
      },
      {
       "output_type": "stream",
       "stream": "stdout",
       "text": [
        " lpoisg W1-4: 36.7715317174\n",
        "Only With"
       ]
      },
      {
       "output_type": "stream",
       "stream": "stdout",
       "text": [
        " ladaSTbl W1-4: 36.3073749355\n",
        "Only With"
       ]
      },
      {
       "output_type": "stream",
       "stream": "stdout",
       "text": [
        " l W1-4: 38.1640020629\n",
        "Only With"
       ]
      },
      {
       "output_type": "stream",
       "stream": "stdout",
       "text": [
        " lgTbl W1-4: 30.7374935534\n",
        "Only With"
       ]
      },
      {
       "output_type": "stream",
       "stream": "stdout",
       "text": [
        " lpoisgTbl W1-4: 31.1500773595\n",
        "Only With"
       ]
      },
      {
       "output_type": "stream",
       "stream": "stdout",
       "text": [
        " lgbmS W1-4: 40.1237751418\n",
        "Only With"
       ]
      },
      {
       "output_type": "stream",
       "stream": "stdout",
       "text": [
        " ladaS W1-4: 39.865910263\n",
        "Only With"
       ]
      },
      {
       "output_type": "stream",
       "stream": "stdout",
       "text": [
        " lgbmHiz W1-4: 36.6683857659\n",
        "Only With"
       ]
      },
      {
       "output_type": "stream",
       "stream": "stdout",
       "text": [
        " lrfS W1-4: 38.9375966993\n",
        "Only With"
       ]
      },
      {
       "output_type": "stream",
       "stream": "stdout",
       "text": [
        " lDerece W1-4: 37.9577101599\n",
        "Only With"
       ]
      },
      {
       "output_type": "stream",
       "stream": "stdout",
       "text": [
        " lTbl W1-4: 34.2960288809\n"
       ]
      }
     ]
    },
    {
     "cell_type": "code",
     "collapsed": false,
     "input": [
      "import itertools\n",
      "x = dict(extramultweights)\n",
      "for nr in range(1,8):\n",
      "    bestVal = 0\n",
      "    bestComb = []\n",
      "    for c in itertools.combinations(extramultweights.items(),nr):\n",
      "        dc = dict(c)\n",
      "        for i in x.keys(): x[i]=0.0\n",
      "        for i in dc.keys(): x[i]=1.0\n",
      "        r=diskLogFast.doExperiment('removed 2', extramultweights=x, kosCins='ING')\n",
      "        if bestVal<sum(r): bestVal, bestComb = sum(r), dc.keys()\n",
      "        print '{:<45} {:.1f} {:.1f} {:.1f} {:.1f}'.format('-'.join(dc.keys()),r[0],r[1],r[2],r[3])\n",
      "    print 'Best Combination for', nr, bestComb, bestVal"
     ],
     "language": "python",
     "metadata": {},
     "outputs": [
      {
       "output_type": "stream",
       "stream": "stdout",
       "text": [
        "lrfSTbl                                       18.8 33.3 45.1 55.6\n",
        "lg                                            21.0 35.9 48.8 58.8"
       ]
      },
      {
       "output_type": "stream",
       "stream": "stdout",
       "text": [
        "\n",
        "lDereceTbl                                    18.9 34.3 47.0 57.5"
       ]
      },
      {
       "output_type": "stream",
       "stream": "stdout",
       "text": [
        "\n",
        "lHC                                           19.5 34.7 49.1 59.7"
       ]
      },
      {
       "output_type": "stream",
       "stream": "stdout",
       "text": [
        "\n",
        "lgbmS3Tbl                                     19.5 35.1 48.3 60.6"
       ]
      },
      {
       "output_type": "stream",
       "stream": "stdout",
       "text": [
        "\n",
        "lgbmHizTbl                                    20.7 36.3 49.7 59.9"
       ]
      },
      {
       "output_type": "stream",
       "stream": "stdout",
       "text": [
        "\n",
        "lpoisg                                        20.9 36.8 50.7 60.1"
       ]
      },
      {
       "output_type": "stream",
       "stream": "stdout",
       "text": [
        "\n",
        "ladaSTbl                                      21.0 36.3 49.8 59.7"
       ]
      },
      {
       "output_type": "stream",
       "stream": "stdout",
       "text": [
        "\n",
        "l                                             21.4 38.2 51.5 62.6"
       ]
      },
      {
       "output_type": "stream",
       "stream": "stdout",
       "text": [
        "\n",
        "lgTbl                                         16.8 30.7 42.5 52.5"
       ]
      },
      {
       "output_type": "stream",
       "stream": "stdout",
       "text": [
        "\n",
        "lpoisgTbl                                     16.7 31.2 42.4 54.2"
       ]
      },
      {
       "output_type": "stream",
       "stream": "stdout",
       "text": [
        "\n",
        "lgbmS                                         23.9 40.1 52.3 62.6"
       ]
      },
      {
       "output_type": "stream",
       "stream": "stdout",
       "text": [
        "\n",
        "ladaS                                         24.5 39.9 53.3 63.8"
       ]
      },
      {
       "output_type": "stream",
       "stream": "stdout",
       "text": [
        "\n",
        "lgbmHiz                                       20.5 36.7 50.5 60.9"
       ]
      },
      {
       "output_type": "stream",
       "stream": "stdout",
       "text": [
        "\n",
        "lrfS                                          22.8 38.9 51.5 61.3"
       ]
      }
     ]
    },
    {
     "cell_type": "code",
     "collapsed": false,
     "input": [],
     "language": "python",
     "metadata": {},
     "outputs": []
    }
   ],
   "metadata": {}
  }
 ]
}