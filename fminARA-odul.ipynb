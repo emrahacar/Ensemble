{
 "metadata": {
  "name": "",
  "signature": "sha256:703209b5c7b9982b3819d16f14f75dd455b4faf878cc60e9455374c523a26e7b"
 },
 "nbformat": 3,
 "nbformat_minor": 0,
 "worksheets": [
  {
   "cells": [
    {
     "cell_type": "code",
     "collapsed": false,
     "input": [
      "import sys, os\n",
      "import numpy as np\n",
      "import scipy as sp\n",
      "import scipy.optimize as optimize\n",
      "import diskLogFast\n",
      "\n",
      "query = { 'cins':'ING', 'kosId': {'$lt':90000} }\n",
      "odul = [1.75, 1.25, 1.01, 0.0]\n",
      "extramultweights = { 'lgbmS' : 1.0,\n",
      "                     'lrfSTbl' : 1.0,\n",
      "                     'lgbmHiz' : 1.0,\n",
      "                     'lgbmHizTbl' : 1.0,\n",
      "                     'lHC': 1.0,\n",
      "                     'ladaS': 1.0,\n",
      "                     'lrfS': 1.0,\n",
      "                     'lgbmS3Tbl': 1.0,\n",
      "                     'l': 1.0,\n",
      "                     'lDerece': 1.0,\n",
      "                     'ladaSTbl': 1.0,\n",
      "                     'lpoisg': 1.0,\n",
      "                     'lDereceTbl': 1.0,\n",
      "                     'lg': 1.0,\n",
      "                     'lTbl': 1.0,\n",
      "                     'lpoisgTbl': 1.0,\n",
      "                     'lgTbl': 1.0 }\n",
      "\n",
      "def f(ev):\n",
      "    r = diskLogFast.doExperiment(query, \n",
      "                                 extramultweights=extramultweights, \n",
      "                                 odul= ev,\n",
      "                                 kosCins='ARA')\n",
      "    print \"INPUT\", ev\n",
      "    print '=={:.1f} {:.1f} {:.1f} {:.1f}'.format(r[0],r[1],r[2],r[3])\n",
      "    return -sum(r[:2])\n"
     ],
     "language": "python",
     "metadata": {},
     "outputs": [],
     "prompt_number": 9
    },
    {
     "cell_type": "code",
     "collapsed": false,
     "input": [
      "initx=[1.75, 1.25, 1.01, 0.0]\n",
      "x=optimize.fmin(f, initx, disp=True)\n",
      "print x\n"
     ],
     "language": "python",
     "metadata": {},
     "outputs": [
      {
       "output_type": "stream",
       "stream": "stdout",
       "text": [
        "INPUT [ 1.75  1.25  1.01  0.  ]\n",
        "==23.7 40.8 52.2 61.8\n",
        "INPUT"
       ]
      },
      {
       "output_type": "stream",
       "stream": "stdout",
       "text": [
        " [ 1.8375  1.25    1.01    0.    ]\n",
        "==23.8 41.0 52.2 61.7\n",
        "INPUT"
       ]
      },
      {
       "output_type": "stream",
       "stream": "stdout",
       "text": [
        " [ 1.75    1.3125  1.01    0.    ]\n",
        "==23.6 41.0 52.5 61.8\n",
        "INPUT"
       ]
      },
      {
       "output_type": "stream",
       "stream": "stdout",
       "text": [
        " [ 1.75    1.25    1.0605  0.    ]\n",
        "==23.9 40.9 52.2 61.7\n",
        "INPUT"
       ]
      },
      {
       "output_type": "stream",
       "stream": "stdout",
       "text": [
        " [  1.75000000e+00   1.25000000e+00   1.01000000e+00   2.50000000e-04]\n",
        "==23.7 40.8 52.2 61.8\n",
        "INPUT"
       ]
      },
      {
       "output_type": "stream",
       "stream": "stdout",
       "text": [
        " [  1.79375000e+00   1.28125000e+00   1.03525000e+00  -2.50000000e-04]\n",
        "==23.7 40.8 52.2 61.8\n",
        "INPUT"
       ]
      },
      {
       "output_type": "stream",
       "stream": "stdout",
       "text": [
        " [  1.76093750e+00   1.25781250e+00   1.01631250e+00   1.25000000e-04]\n",
        "==23.7 40.8 52.2 61.8\n",
        "INPUT"
       ]
      },
      {
       "output_type": "stream",
       "stream": "stdout",
       "text": [
        " [ 1.79375  1.25     1.03525  0.     ]\n",
        "==23.8 40.8 52.1 61.6\n",
        "INPUT"
       ]
      },
      {
       "output_type": "stream",
       "stream": "stdout",
       "text": [
        " [ 1.75     1.28125  1.03525  0.     ]\n",
        "==23.7 40.9 52.2 61.8\n",
        "INPUT"
       ]
      },
      {
       "output_type": "stream",
       "stream": "stdout",
       "text": [
        " [ 1.75     1.25     1.03525  0.     ]\n",
        "==23.8 40.8 52.2 61.8\n",
        "INPUT"
       ]
      },
      {
       "output_type": "stream",
       "stream": "stdout",
       "text": [
        " [  1.75000000e+00   1.25000000e+00   1.03525000e+00   1.25000000e-04]\n",
        "==23.8 40.8 52.2 61.8\n",
        "INPUT"
       ]
      },
      {
       "output_type": "stream",
       "stream": "stdout",
       "text": [
        " [  1.77187500e+00   1.21875000e+00   1.04787500e+00   6.25000000e-05]\n",
        "==23.8 40.9 52.1 61.6\n",
        "INPUT"
       ]
      },
      {
       "output_type": "stream",
       "stream": "stdout",
       "text": [
        " [  1.71718750e+00   1.23437500e+00   1.05418750e+00   9.37500000e-05]\n",
        "==23.8 40.9 52.1 61.7\n",
        "INPUT"
       ]
      },
      {
       "output_type": "stream",
       "stream": "stdout",
       "text": [
        " [  1.74453125e+00   1.22656250e+00   1.06365625e+00  -4.68750000e-05]\n",
        "==23.8 40.9 52.0 61.6\n",
        "INPUT"
       ]
      },
      {
       "output_type": "stream",
       "stream": "stdout",
       "text": [
        " [  1.74179687e+00   1.21484375e+00   1.07785937e+00   5.46875000e-05]\n",
        "==23.9 40.9 52.1 61.6\n",
        "INPUT"
       ]
      },
      {
       "output_type": "stream",
       "stream": "stdout",
       "text": [
        " [  1.78691406e+00   1.22070312e+00   1.07075781e+00  -5.85937500e-05]\n",
        "==23.8 40.9 52.1 61.6\n",
        "INPUT"
       ]
      },
      {
       "output_type": "stream",
       "stream": "stdout",
       "text": [
        " [  1.73974609e+00   1.23730469e+00   1.08851172e+00  -8.78906250e-05]\n",
        "==23.9 40.9 52.1 61.6\n",
        "INPUT"
       ]
      },
      {
       "output_type": "stream",
       "stream": "stdout",
       "text": [
        " [  1.70112305e+00   1.24365234e+00   1.07450586e+00   1.85546875e-05]\n",
        "==23.7 40.9 52.3 61.6\n",
        "INPUT"
       ]
      },
      {
       "output_type": "stream",
       "stream": "stdout",
       "text": [
        " [  1.76546631e+00   1.22644043e+00   1.07169482e+00  -3.93066406e-05]\n",
        "==23.9 40.9 52.0 61.7\n",
        "INPUT"
       ]
      },
      {
       "output_type": "stream",
       "stream": "stdout",
       "text": [
        " [  1.75807495e+00   1.25531006e+00   1.06432202e+00  -1.41723633e-04]\n",
        "==23.8 41.0 52.2 61.7\n",
        "INPUT"
       ]
      },
      {
       "output_type": "stream",
       "stream": "stdout",
       "text": [
        " [  1.76211243e+00   1.25796509e+00   1.07885803e+00  -8.75854492e-05]\n",
        "==23.9 40.9 52.1 61.7\n",
        "INPUT"
       ]
      },
      {
       "output_type": "stream",
       "stream": "stdout",
       "text": [
        " [  1.74892654e+00   1.23441315e+00   1.06745670e+00  -5.70526123e-05]\n",
        "==23.8 40.9 52.1 61.6\n",
        "INPUT"
       ]
      },
      {
       "output_type": "stream",
       "stream": "stdout",
       "text": [
        " [  1.74487305e+00   1.24365234e+00   1.07450586e+00  -4.39453125e-05]\n",
        "==23.9 40.9 52.1 61.8\n",
        "INPUT"
       ]
      },
      {
       "output_type": "stream",
       "stream": "stdout",
       "text": [
        " [  1.75773315e+00   1.23822021e+00   1.06609741e+00  -1.96533203e-05]\n",
        "==23.8 41.0 52.1 61.6\n",
        "INPUT"
       ]
      },
      {
       "output_type": "stream",
       "stream": "stdout",
       "text": [
        " [  1.75403748e+00   1.25265503e+00   1.06241101e+00  -7.08618164e-05]\n",
        "==23.9 40.9 52.2 61.7\n",
        "INPUT"
       ]
      },
      {
       "output_type": "stream",
       "stream": "stdout",
       "text": [
        " [  1.74726562e+00   1.23828125e+00   1.06207812e+00  -2.34375000e-05]\n",
        "==23.9 40.9 52.1 61.6\n",
        "INPUT"
       ]
      },
      {
       "output_type": "stream",
       "stream": "stdout",
       "text": [
        " [  1.75964508e+00   1.24592590e+00   1.05103741e+00  -1.30310059e-05]\n",
        "==23.8 40.9 52.1 61.7\n",
        "INPUT"
       ]
      },
      {
       "output_type": "stream",
       "stream": "stdout",
       "text": [
        " [  1.74856606e+00   1.24422073e+00   1.06863875e+00  -3.62167358e-05]\n",
        "==24.0 40.9 52.2 61.7\n",
        "INPUT"
       ]
      },
      {
       "output_type": "stream",
       "stream": "stdout",
       "text": [
        " [  1.75790272e+00   1.25426674e+00   1.06674546e+00  -3.99284363e-05]\n",
        "==23.9 40.9 52.2 61.7\n",
        "INPUT"
       ]
      },
      {
       "output_type": "stream",
       "stream": "stdout",
       "text": [
        " [  1.74992490e+00   1.24227762e+00   1.06324496e+00  -2.75602341e-05]\n",
        "==24.0 40.9 52.2 61.7\n",
        "INPUT"
       ]
      },
      {
       "output_type": "stream",
       "stream": "stdout",
       "text": [
        " [  1.74907458e+00   1.23470426e+00   1.06682955e+00   2.91466713e-05]\n",
        "==23.8 40.9 52.1 61.6\n",
        "INPUT"
       ]
      },
      {
       "output_type": "stream",
       "stream": "stdout",
       "text": [
        " [  1.75279675e+00   1.24816734e+00   1.06351565e+00  -4.58596945e-05]\n",
        "==24.0 40.9 52.2 61.7\n",
        "INPUT"
       ]
      },
      {
       "output_type": "stream",
       "stream": "stdout",
       "text": [
        " [  1.74291070e+00   1.25411263e+00   1.06185226e+00  -3.51650119e-05]\n",
        "==23.8 40.9 52.1 61.7\n",
        "INPUT"
       ]
      },
      {
       "output_type": "stream",
       "stream": "stdout",
       "text": [
        " [  1.75402754e+00   1.24219332e+00   1.06503613e+00  -2.35312432e-05]\n",
        "==23.9 40.9 52.1 61.6\n",
        "INPUT"
       ]
      },
      {
       "output_type": "stream",
       "stream": "stdout",
       "text": [
        " [  1.74924548e+00   1.24324918e+00   1.06594185e+00  -3.18884850e-05]\n",
        "==24.0 40.9 52.2 61.7\n",
        "INPUT"
       ]
      },
      {
       "output_type": "stream",
       "stream": "stdout",
       "text": [
        " [  1.75068140e+00   1.24619403e+00   1.06607720e+00  -4.10382152e-05]\n",
        "==24.0 40.9 52.2 61.7\n",
        "INPUT"
       ]
      },
      {
       "output_type": "stream",
       "stream": "stdout",
       "text": [
        " [  1.74928303e+00   1.24711037e+00   1.06456937e+00  -1.81083679e-05]\n",
        "==24.0 40.9 52.2 61.7\n",
        "INPUT"
       ]
      },
      {
       "output_type": "stream",
       "stream": "stdout",
       "text": [
        " [  1.75314960e+00   1.24122047e+00   1.06736808e+00  -2.79350281e-05]\n",
        "==23.8 40.9 52.1 61.6\n",
        "INPUT"
       ]
      },
      {
       "output_type": "stream",
       "stream": "stdout",
       "text": [
        " [  1.74573838e+00   1.24916668e+00   1.06524551e+00  -3.56908739e-05]\n",
        "==23.9 40.9 52.2 61.7\n",
        "INPUT"
       ]
      },
      {
       "output_type": "stream",
       "stream": "stdout",
       "text": [
        " [  1.74759118e+00   1.24718013e+00   1.06577615e+00  -3.37519124e-05]\n",
        "==23.9 40.9 52.2 61.7\n",
        "INPUT"
       ]
      },
      {
       "output_type": "stream",
       "stream": "stdout",
       "text": [
        " [  1.75129680e+00   1.24320703e+00   1.06683744e+00  -2.98739895e-05]\n",
        "==23.9 40.9 52.2 61.6\n",
        "INPUT"
       ]
      },
      {
       "output_type": "stream",
       "stream": "stdout",
       "text": [
        " [  1.74851759e+00   1.24618685e+00   1.06604147e+00  -3.27824317e-05]\n",
        "==24.0 40.9 52.2 61.7\n",
        "INPUT"
       ]
      },
      {
       "output_type": "stream",
       "stream": "stdout",
       "text": [
        " [  1.75037039e+00   1.24420030e+00   1.06657211e+00  -3.08434702e-05]\n",
        "==24.0 40.9 52.2 61.7\n",
        "INPUT"
       ]
      },
      {
       "output_type": "stream",
       "stream": "stdout",
       "text": [
        " [  1.74898079e+00   1.24569022e+00   1.06617413e+00  -3.22976913e-05]\n",
        "==24.0 40.9 52.2 61.7\n",
        "INPUT"
       ]
      },
      {
       "output_type": "stream",
       "stream": "stdout",
       "text": [
        " [  1.74890577e+00   1.24373496e+00   1.06729030e+00  -3.40526104e-05]\n",
        "==23.9 40.9 52.2 61.7\n",
        "INPUT"
       ]
      },
      {
       "output_type": "stream",
       "stream": "stdout",
       "text": [
        " [  1.74962373e+00   1.24520738e+00   1.06735797e+00  -3.86274755e-05]\n",
        "==23.9 40.9 52.2 61.7\n",
        "INPUT"
       ]
      },
      {
       "output_type": "stream",
       "stream": "stdout",
       "text": [
        " [  1.74892454e+00   1.24566555e+00   1.06660406e+00  -2.71625519e-05]\n",
        "==24.0 40.9 52.2 61.7\n",
        "INPUT"
       ]
      },
      {
       "output_type": "stream",
       "stream": "stdout",
       "text": [
        " [  1.74854182e+00   1.24520379e+00   1.06734011e+00  -3.44995838e-05]\n",
        "==23.9 40.9 52.2 61.7\n",
        "INPUT"
       ]
      },
      {
       "output_type": "stream",
       "stream": "stdout",
       "text": [
        " [  1.74946822e+00   1.24421052e+00   1.06760543e+00  -3.35301030e-05]\n",
        "==23.9 40.9 52.2 61.7\n",
        "INPUT"
       ]
      },
      {
       "output_type": "stream",
       "stream": "stdout",
       "text": [
        " [  1.74877342e+00   1.24495547e+00   1.06740644e+00  -3.42572136e-05]\n",
        "==23.9 40.9 52.2 61.7\n",
        "INPUT"
       ]
      },
      {
       "output_type": "stream",
       "stream": "stdout",
       "text": [
        " [  1.74874530e+00   1.24494314e+00   1.06762140e+00  -3.16896439e-05]\n",
        "==23.9 40.9 52.2 61.7\n",
        "INPUT"
       ]
      },
      {
       "output_type": "stream",
       "stream": "stdout",
       "text": [
        " [  1.74873591e+00   1.24397784e+00   1.06796452e+00  -3.51346731e-05]\n",
        "==23.9 40.9 52.2 61.7\n",
        "INPUT"
       ]
      },
      {
       "output_type": "stream",
       "stream": "stdout",
       "text": [
        " [  1.74909489e+00   1.24471406e+00   1.06799836e+00  -3.74221057e-05]\n",
        "==23.9 40.9 52.2 61.7\n",
        "INPUT"
       ]
      },
      {
       "output_type": "stream",
       "stream": "stdout",
       "text": [
        " [  1.74855394e+00   1.24471226e+00   1.06798943e+00  -3.53581598e-05]\n",
        "==24.0 40.9 52.2 61.7\n",
        "INPUT"
       ]
      },
      {
       "output_type": "stream",
       "stream": "stdout",
       "text": [
        " [  1.74820571e+00   1.24421293e+00   1.06810869e+00  -3.17775006e-05]\n",
        "==24.0 40.9 52.2 61.7\n",
        "INPUT"
       ]
      },
      {
       "output_type": "stream",
       "stream": "stdout",
       "text": [
        " [  1.74829959e+00   1.24506669e+00   1.06821461e+00  -3.23863470e-05]\n",
        "==24.0 40.9 52.2 61.7\n",
        "INPUT"
       ]
      },
      {
       "output_type": "stream",
       "stream": "stdout",
       "text": [
        " [  1.74806735e+00   1.24416317e+00   1.06885434e+00  -3.61797278e-05]\n",
        "==24.0 40.9 52.2 61.7\n",
        "INPUT"
       ]
      },
      {
       "output_type": "stream",
       "stream": "stdout",
       "text": [
        " [  1.74823684e+00   1.24435816e+00   1.06854610e+00  -3.50572068e-05]\n",
        "==24.0 40.9 52.2 61.7\n",
        "INPUT"
       ]
      },
      {
       "output_type": "stream",
       "stream": "stdout",
       "text": [
        " [  1.74857581e+00   1.24474815e+00   1.06792964e+00  -3.28121648e-05]\n",
        "==24.0 40.9 52.2 61.7\n",
        "INPUT"
       ]
      },
      {
       "output_type": "stream",
       "stream": "stdout",
       "text": [
        " [  1.74832158e+00   1.24445566e+00   1.06839199e+00  -3.44959463e-05]\n",
        "==24.0 40.9 52.2 61.7\n",
        "INPUT"
       ]
      },
      {
       "output_type": "stream",
       "stream": "stdout",
       "text": [
        " [  1.74856000e+00   1.24446650e+00   1.06831409e+00  -3.57874478e-05]\n",
        "==24.0 40.9 52.2 61.7\n",
        "INPUT"
       ]
      },
      {
       "output_type": "stream",
       "stream": "stdout",
       "text": [
        " [  1.74838588e+00   1.24421683e+00   1.06837372e+00  -3.39971182e-05]\n",
        "==24.0 40.9 52.2 61.7\n",
        "INPUT"
       ]
      },
      {
       "output_type": "stream",
       "stream": "stdout",
       "text": [
        " [  1.74843282e+00   1.24464371e+00   1.06842668e+00  -3.43015414e-05]\n",
        "==24.0 40.9 52.2 61.7\n",
        "INPUT"
       ]
      },
      {
       "output_type": "stream",
       "stream": "stdout",
       "text": [
        " [  1.74840145e+00   1.24428945e+00   1.06859243e+00  -3.56369713e-05]\n",
        "==24.0 40.9 52.2 61.7\n",
        "INPUT"
       ]
      },
      {
       "output_type": "stream",
       "stream": "stdout",
       "text": [
        " [  1.74857093e+00   1.24448444e+00   1.06828419e+00  -3.45144503e-05]\n",
        "==24.0 40.9 52.2 61.7\n",
        "INPUT"
       ]
      },
      {
       "output_type": "stream",
       "stream": "stdout",
       "text": [
        " [  1.74844382e+00   1.24433820e+00   1.06851537e+00  -3.53563411e-05]\n",
        "==24.0 40.9 52.2 61.7\n",
        "INPUT"
       ]
      },
      {
       "output_type": "stream",
       "stream": "stdout",
       "text": [
        " [  1.74856303e+00   1.24434362e+00   1.06847642e+00  -3.60020918e-05]\n",
        "==24.0 40.9 52.2 61.7\n",
        "INPUT"
       ]
      },
      {
       "output_type": "stream",
       "stream": "stdout",
       "text": [
        " [  1.74847597e+00   1.24421878e+00   1.06850623e+00  -3.51069270e-05]\n",
        "==24.0 40.9 52.2 61.7\n",
        "INPUT"
       ]
      },
      {
       "output_type": "stream",
       "stream": "stdout",
       "text": [
        " [  1.74849944e+00   1.24443222e+00   1.06853271e+00  -3.52591386e-05]\n",
        "==24.0 40.9 52.2 61.7\n",
        "INPUT"
       ]
      },
      {
       "output_type": "stream",
       "stream": "stdout",
       "text": [
        " [  1.74848375e+00   1.24425509e+00   1.06861559e+00  -3.59268536e-05]\n",
        "==24.0 40.9 52.2 61.7\n",
        "INPUT"
       ]
      },
      {
       "output_type": "stream",
       "stream": "stdout",
       "text": [
        " [  1.74856849e+00   1.24435259e+00   1.06846147e+00  -3.53655931e-05]\n",
        "==24.0 40.9 52.2 61.7\n",
        "INPUT"
       ]
      },
      {
       "output_type": "stream",
       "stream": "stdout",
       "text": [
        " [  1.74850494e+00   1.24427946e+00   1.06857706e+00  -3.57865385e-05]\n",
        "==24.0 40.9 52.2 61.7\n",
        "INPUT"
       ]
      },
      {
       "output_type": "stream",
       "stream": "stdout",
       "text": [
        " [  1.74856454e+00   1.24428217e+00   1.06855758e+00  -3.61094138e-05]\n",
        "==24.0 40.9 52.2 61.7\n",
        "INPUT"
       ]
      },
      {
       "output_type": "stream",
       "stream": "stdout",
       "text": [
        " [  1.74852101e+00   1.24421976e+00   1.06857249e+00  -3.56618314e-05]\n",
        "==24.0 40.9 52.2 61.7\n",
        "INPUT"
       ]
      },
      {
       "output_type": "stream",
       "stream": "stdout",
       "text": [
        " [  1.74853275e+00   1.24432648e+00   1.06858573e+00  -3.57379372e-05]\n",
        "==24.0 40.9 52.2 61.7\n",
        "INPUT"
       ]
      },
      {
       "output_type": "stream",
       "stream": "stdout",
       "text": [
        " [  1.74852490e+00   1.24423791e+00   1.06862717e+00  -3.60717947e-05]\n",
        "==24.0 40.9 52.2 61.7\n",
        "INPUT"
       ]
      },
      {
       "output_type": "stream",
       "stream": "stdout",
       "text": [
        " [  1.74856727e+00   1.24428666e+00   1.06855011e+00  -3.57911645e-05]\n",
        "==24.0 40.9 52.2 61.7\n",
        "INPUT"
       ]
      },
      {
       "output_type": "stream",
       "stream": "stdout",
       "text": [
        " [  1.74853550e+00   1.24425010e+00   1.06860790e+00  -3.60016371e-05]\n",
        "==24.0 40.9 52.2 61.7\n",
        "INPUT"
       ]
      },
      {
       "output_type": "stream",
       "stream": "stdout",
       "text": [
        " [  1.74856530e+00   1.24425145e+00   1.06859817e+00  -3.61630748e-05]\n",
        "==24.0 40.9 52.2 61.7\n",
        "INPUT"
       ]
      },
      {
       "output_type": "stream",
       "stream": "stdout",
       "text": [
        " [  1.74854353e+00   1.24422025e+00   1.06860562e+00  -3.59392836e-05]\n",
        "==24.0 40.9 52.2 61.7\n",
        "INPUT"
       ]
      },
      {
       "output_type": "stream",
       "stream": "stdout",
       "text": [
        " [  1.74854940e+00   1.24427361e+00   1.06861224e+00  -3.59773365e-05]\n",
        "==24.0 40.9 52.2 61.7\n",
        "INPUT"
       ]
      },
      {
       "output_type": "stream",
       "stream": "stdout",
       "text": [
        " [  1.74854548e+00   1.24422932e+00   1.06863296e+00  -3.61442653e-05]\n",
        "==24.0 40.9 52.2 61.7\n",
        "Optimization terminated successfully.\n",
        "         Current function value: -64.863222\n",
        "         Iterations: 26\n",
        "         Function evaluations: 82\n",
        "[  1.74856606e+00   1.24422073e+00   1.06863875e+00  -3.62167358e-05]\n"
       ]
      }
     ],
     "prompt_number": 10
    },
    {
     "cell_type": "code",
     "collapsed": false,
     "input": [
      "import itertools\n",
      "for x in itertools.combinations([0,1,2,3],2): print x"
     ],
     "language": "python",
     "metadata": {},
     "outputs": [
      {
       "output_type": "stream",
       "stream": "stdout",
       "text": [
        "(0, 1)\n",
        "(0, 2)\n",
        "(0, 3)\n",
        "(1, 2)\n",
        "(1, 3)\n",
        "(2, 3)\n"
       ]
      }
     ],
     "prompt_number": 13
    },
    {
     "cell_type": "code",
     "collapsed": false,
     "input": [],
     "language": "python",
     "metadata": {},
     "outputs": []
    }
   ],
   "metadata": {}
  }
 ]
}